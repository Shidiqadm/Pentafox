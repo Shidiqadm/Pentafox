{
  "nbformat": 4,
  "nbformat_minor": 0,
  "metadata": {
    "colab": {
      "name": "Untitled1.ipynb",
      "provenance": [],
      "collapsed_sections": []
    },
    "kernelspec": {
      "name": "python3",
      "display_name": "Python 3"
    }
  },
  "cells": [
    {
      "cell_type": "markdown",
      "metadata": {
        "id": "UWM4v_uqLKkR"
      },
      "source": [
        "A bicyclist cycles around a circular park with a pathway connecting two opposite end points of\n",
        "the path of length 7kms. Develop a logic that computes the total distance covered by the cyclist\n",
        "for a given set of rounds cycled."
      ]
    },
    {
      "cell_type": "code",
      "metadata": {
        "colab": {
          "base_uri": "https://localhost:8080/"
        },
        "id": "yeIIoACfBjw2",
        "outputId": "a33993dd-7c40-4adb-c077-5ff48e001481"
      },
      "source": [
        "area=120\n",
        "round = int(input(\"Enter the No of Rounds: \"));\n",
        "print(area*round, \"Kms travelled\")"
      ],
      "execution_count": null,
      "outputs": [
        {
          "output_type": "stream",
          "text": [
            "Enter the No of Rounds: 4\n",
            "480 Kms travelled\n"
          ],
          "name": "stdout"
        }
      ]
    },
    {
      "cell_type": "markdown",
      "metadata": {
        "id": "wFYQfYxbLPpt"
      },
      "source": [
        "A fixed set of positive integers is dictated by the mathematics professor during a puzzle contest.\n",
        "The professor asks the students to find a pair of numbers that result in a given sum. Code a\n",
        "logic that can automate this puzzle. Use the below input for your exercise."
      ]
    },
    {
      "cell_type": "code",
      "metadata": {
        "colab": {
          "base_uri": "https://localhost:8080/"
        },
        "id": "TzJvu-G1F5UF",
        "outputId": "9465cf66-f47c-47ab-c4a6-03bb7b16ab0d"
      },
      "source": [
        "array = input(\"Enter the set of numbers: \")\n",
        "a_list = array.split()\n",
        "map_object = map(int, a_list)\n",
        "list_of_integers = list(map_object)\n",
        "ans=[]\n",
        "\n",
        "sum = int(input(\"Enter the sum: \"))\n",
        "\n",
        "for i in range(0, len(list_of_integers)):\n",
        "        for j in range(i + 1, len(list_of_integers)):\n",
        "            if list_of_integers[i] + list_of_integers[j] == sum:\n",
        "              ans.append(list_of_integers[i])\n",
        "              ans.append(list_of_integers[j])\n",
        "if not ans:\n",
        "  print(\"No pairs found\")\n",
        "else:\n",
        "  print(ans)"
      ],
      "execution_count": null,
      "outputs": [
        {
          "output_type": "stream",
          "text": [
            "Enter the set of numbers: 1 2 3 4 5 6\n",
            "Enter the sum: 6\n",
            "[1, 5, 2, 4]\n"
          ],
          "name": "stdout"
        }
      ]
    },
    {
      "cell_type": "markdown",
      "metadata": {
        "id": "GSLcEGXnLgA5"
      },
      "source": [
        "Alice is a cryptanalyst who is in charge of transmitting messages to bob without any intruder\n",
        "getting hands on it. Alice thinks of transmitting the message by reversing it with a random\n",
        "character appended as prefix to the encoded message."
      ]
    },
    {
      "cell_type": "code",
      "metadata": {
        "colab": {
          "base_uri": "https://localhost:8080/"
        },
        "id": "buk4GYCfHVTW",
        "outputId": "8a8610b8-d13b-4d46-f831-7b23976a2f30"
      },
      "source": [
        "import random\n",
        "import string\n",
        "message = input(\"Enter the message you want to encrypt: \")\n",
        "rand = random.choice(string.ascii_letters)\n",
        "print(rand.capitalize()+message[::-1])"
      ],
      "execution_count": null,
      "outputs": [
        {
          "output_type": "stream",
          "text": [
            "Enter the message you want to encrypt: paradox\n",
            "Sxodarap\n"
          ],
          "name": "stdout"
        }
      ]
    },
    {
      "cell_type": "markdown",
      "metadata": {
        "id": "ODLW6KUVLheX"
      },
      "source": [
        "In a puzzle contest, the chairman of your English club posts a problem to compare a given pair\n",
        "of words and eliminate all common characters in them. To speed up the process of judging, the\n",
        "computer club head was requested to prepare computer logic. Please code a solution to the\n",
        "above problem applying your own skillset."
      ]
    },
    {
      "cell_type": "code",
      "metadata": {
        "id": "u_7vxG-dHr60",
        "colab": {
          "base_uri": "https://localhost:8080/"
        },
        "outputId": "189315f8-5492-4e4a-e466-cb314553f2e7"
      },
      "source": [
        "word1 = input(\"Enter the word 01: \")\n",
        "word2 = input(\"Enter the word 02: \")\n",
        "l=[]\n",
        "m=[]\n",
        "\n",
        "for i in range(0,len(word1)):\n",
        "  if (word1[i] != word2[i]):\n",
        "    l.append(word1[i])\n",
        "    if (word2[i] != word1[i]):\n",
        "      m.append(word2[i])\n",
        "\n",
        "listToStr1 = ' '.join(map(str, l)) \n",
        "listToStr2 = ' '.join(map(str, m)) \n",
        "print(listToStr1,listToStr2)\n",
        "\n"
      ],
      "execution_count": null,
      "outputs": [
        {
          "output_type": "stream",
          "text": [
            "Enter the word 01: ramesh\n",
            "Enter the word 02: ganesh\n",
            "r m g n\n"
          ],
          "name": "stdout"
        }
      ]
    },
    {
      "cell_type": "markdown",
      "metadata": {
        "id": "hzn0Ku19Ll_8"
      },
      "source": [
        "A school camp is organized by a school to support the process of preparing their students for\n",
        "an examination. They are in need of a study timetable that has following assumptions:\n",
        "Assumptions:\n",
        "1. Total Days of Camp – 5 Days\n",
        "2. Total Hours a day – 5 Days\n",
        "3. Total Subjects – 5 Subjects\n",
        "\n",
        "Note: The timetable should not follow the same order and should be in random everyday.\n",
        "Prepare code logic to help the School."
      ]
    },
    {
      "cell_type": "code",
      "metadata": {
        "id": "uczU_ugtC1PA",
        "colab": {
          "base_uri": "https://localhost:8080/"
        },
        "outputId": "09c7d2e0-b919-441a-e907-e4ccc6a86d43"
      },
      "source": [
        "import random\n",
        "\n",
        "Days=['monday','tuesday','wednesday','thursdar','friday']\n",
        "Subjects=['english','maths','physics','chemistry','biology']\n",
        "n=5\n",
        "for i in Days:\n",
        "  print(i,random.sample(Subjects,n))"
      ],
      "execution_count": null,
      "outputs": [
        {
          "output_type": "stream",
          "text": [
            "monday ['chemistry', 'maths', 'physics', 'biology', 'english']\n",
            "tuesday ['maths', 'english', 'biology', 'chemistry', 'physics']\n",
            "wednesday ['english', 'maths', 'biology', 'chemistry', 'physics']\n",
            "thursdar ['biology', 'physics', 'english', 'chemistry', 'maths']\n",
            "friday ['physics', 'biology', 'maths', 'chemistry', 'english']\n"
          ],
          "name": "stdout"
        }
      ]
    },
    {
      "cell_type": "markdown",
      "metadata": {
        "id": "QgcVMhj6L0n0"
      },
      "source": [
        "The alphabetical value is represented from 1-26 for characters A-Z respectively. Using this\n",
        "principle generate a crypto decoder that can generate the message for transmitted sequence of\n",
        "alphabetical values."
      ]
    },
    {
      "cell_type": "code",
      "metadata": {
        "colab": {
          "base_uri": "https://localhost:8080/"
        },
        "id": "cDCjbTsOH1wb",
        "outputId": "68b72bd5-0e10-4533-dbfa-426726df04e3"
      },
      "source": [
        "sequence = input(\"Enter the sequence to decode: \")\n",
        "l = sequence.split(\",\")\n",
        "\n",
        "for i in range (0,len(l)):\n",
        "  if (int(l[i])>26 or int(l[i])<1):\n",
        "    print(\"Decode failed on\",l[i],\"please check the sequence\")\n",
        "  else:\n",
        "    m = int(l[i])\n",
        "    print(chr(64+m), end=\" \")"
      ],
      "execution_count": null,
      "outputs": [
        {
          "output_type": "stream",
          "text": [
            "Enter the sequence to decode: 3,5,7,2,6,8,9,7,5,1,2,4,6,7,8,9\n",
            "C E G B F H I G E A B D F G H I "
          ],
          "name": "stdout"
        }
      ]
    },
    {
      "cell_type": "markdown",
      "metadata": {
        "id": "qhBtazjGGPya"
      },
      "source": [
        "As a computer engineer, you are requested to reduce the storage space needed to store the\n",
        "textual content in the computer. Write a logic that can compress the content as given in the\n",
        "below example."
      ]
    },
    {
      "cell_type": "code",
      "metadata": {
        "id": "LfzS5hZrH4qR",
        "colab": {
          "base_uri": "https://localhost:8080/"
        },
        "outputId": "e3700241-715d-4d54-e7e1-fcb7671582bb"
      },
      "source": [
        "word = input(\"Enter a word: \")\n",
        "\n",
        "for i in range(0,len(word)):\n",
        "  count=1\n",
        "  if(word[i]==word[i-1]):\n",
        "    count+=1\n",
        "  print(str(word[i]) if count==1 else count ,end=\"\")"
      ],
      "execution_count": null,
      "outputs": [
        {
          "output_type": "stream",
          "text": [
            "Enter a word: good morning hello all is well\n",
            "go2d morning hel2o al2 is wel2"
          ],
          "name": "stdout"
        }
      ]
    },
    {
      "cell_type": "markdown",
      "metadata": {
        "id": "nqUJeYX3T-do"
      },
      "source": [
        "#**React.js**"
      ]
    },
    {
      "cell_type": "markdown",
      "metadata": {
        "id": "_4x4pUwyUENX"
      },
      "source": [
        "Create a method/funcon to check whether the given 2 strings are anagram to one\n",
        "another or not. Return true if they are anagram."
      ]
    },
    {
      "cell_type": "code",
      "metadata": {
        "id": "tXkWaN2jH7l2",
        "colab": {
          "base_uri": "https://localhost:8080/"
        },
        "outputId": "5d4faef7-eb53-4641-84ea-5e19a5093457"
      },
      "source": [
        "def areAnagram(str1, str2):\n",
        "    n1 = len(str1)\n",
        "    n2 = len(str2)\n",
        "\n",
        "    if n1 != n2:\n",
        "        return 0\n",
        "  \n",
        "    str1 = sorted(str1)\n",
        "    str2 = sorted(str2)\n",
        "\n",
        "    for i in range(0, n1):\n",
        "        if str1[i] != str2[i]:\n",
        "            return 0\n",
        "  \n",
        "    return 1\n",
        "\n",
        "str1 = input(\"Enter word 1:\")\n",
        "str2 = input(\"Enter word 2:\")\n",
        "  \n",
        "if areAnagram(str1, str2):\n",
        "    print(\"The two strings are anagram of each other\")\n",
        "else:\n",
        "    print(\"The two strings are not anagram of each other\")"
      ],
      "execution_count": 8,
      "outputs": [
        {
          "output_type": "stream",
          "text": [
            "Enter word 1:int\n",
            "Enter word 2:tin\n",
            "The two strings are anagram of each other\n"
          ],
          "name": "stdout"
        }
      ]
    },
    {
      "cell_type": "markdown",
      "metadata": {
        "id": "ffiCY78-Uv_-"
      },
      "source": [
        "Return the sum of the prime numbers between given range (including given numbers).\n",
        "Eg., Input: 3 & 60. Output should print the sum of all the primes lying between 3 & 60"
      ]
    },
    {
      "cell_type": "code",
      "metadata": {
        "id": "bnw_TqA_Ma4o",
        "colab": {
          "base_uri": "https://localhost:8080/"
        },
        "outputId": "74947010-66a8-4f44-885b-a08beaab58de"
      },
      "source": [
        "lower = int(input(\"Enter the minimum value: \"))\n",
        "upper = int(input(\"ENter the maximum value: \"))\n",
        "\n",
        "print(\"Prime numbers between\", lower, \"and\", upper, \"are:\")\n",
        "\n",
        "for num in range(lower, upper + 1):\n",
        "   # all prime numbers are greater than 1\n",
        "   if num > 1:\n",
        "       for i in range(2, num):\n",
        "           if (num % i) == 0:\n",
        "               break\n",
        "       else:\n",
        "           print(num, end=\",\")"
      ],
      "execution_count": 11,
      "outputs": [
        {
          "output_type": "stream",
          "text": [
            "Enter the minimum value: 1\n",
            "ENter the maximum value: 1000\n",
            "Prime numbers between 1 and 1000 are:\n",
            "2,3,5,7,11,13,17,19,23,29,31,37,41,43,47,53,59,61,67,71,73,79,83,89,97,101,103,107,109,113,127,131,137,139,149,151,157,163,167,173,179,181,191,193,197,199,211,223,227,229,233,239,241,251,257,263,269,271,277,281,283,293,307,311,313,317,331,337,347,349,353,359,367,373,379,383,389,397,401,409,419,421,431,433,439,443,449,457,461,463,467,479,487,491,499,503,509,521,523,541,547,557,563,569,571,577,587,593,599,601,607,613,617,619,631,641,643,647,653,659,661,673,677,683,691,701,709,719,727,733,739,743,751,757,761,769,773,787,797,809,811,821,823,827,829,839,853,857,859,863,877,881,883,887,907,911,919,929,937,941,947,953,967,971,977,983,991,997,"
          ],
          "name": "stdout"
        }
      ]
    },
    {
      "cell_type": "markdown",
      "metadata": {
        "id": "a2dY_16IU1KG"
      },
      "source": [
        "Return the total number of days from the date given to ll now.\n",
        "Eg., Input: 24-01-1995 & Output should return the total days"
      ]
    },
    {
      "cell_type": "code",
      "metadata": {
        "colab": {
          "base_uri": "https://localhost:8080/"
        },
        "id": "jJKiaSL9ZR7v",
        "outputId": "55bfced4-675e-4525-974a-989b2945607e"
      },
      "source": [
        "from datetime import date\n",
        "d = int(input(\"Enter Day: \"))\n",
        "m = int(input(\"Enter Month: \"))\n",
        "y = int(input(\"Enter Year: \"))\n",
        "\n",
        "date1 = datetime.now()\n",
        "date2 = datetime(day=d, month=m, year=y)\n",
        "\n",
        "remain = date2 - date1\n",
        "print(\"No of Days :\",abs(remain.days))\n"
      ],
      "execution_count": 37,
      "outputs": [
        {
          "output_type": "stream",
          "text": [
            "Enter Day: 24\n",
            "Enter Month: 1\n",
            "Enter Year: 1995\n",
            "No of Days : 9558\n"
          ],
          "name": "stdout"
        }
      ]
    },
    {
      "cell_type": "code",
      "metadata": {
        "id": "nwAzI7pzcLwf"
      },
      "source": [
        ""
      ],
      "execution_count": null,
      "outputs": []
    }
  ]
}